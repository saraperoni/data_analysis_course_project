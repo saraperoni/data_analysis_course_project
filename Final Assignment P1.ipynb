{
 "cells": [
  {
   "cell_type": "markdown",
   "id": "2b04dd95-2ffb-4fa1-b4b2-091647abb161",
   "metadata": {
    "id": "2b04dd95-2ffb-4fa1-b4b2-091647abb161"
   },
   "source": [
    "# 3.15.x Final Assignment"
   ]
  },
  {
   "cell_type": "markdown",
   "id": "5a968c9c-628b-42c6-b692-d88b2a1866f4",
   "metadata": {
    "id": "5a968c9c-628b-42c6-b692-d88b2a1866f4"
   },
   "source": [
    "### Assignment Instructions"
   ]
  },
  {
   "cell_type": "markdown",
   "id": "8ba6a2d5-87be-4662-a940-6e9b347a5ae2",
   "metadata": {
    "id": "8ba6a2d5-87be-4662-a940-6e9b347a5ae2"
   },
   "source": [
    "#### Part 1   |   Standard Difficulty Level\n",
    "\n",
    "In this first part, you will be working with a datasets containing information of over 20k Software Professionals with different variables like: \n",
    "\n",
    "- the `Rating` of the company given by the employee,\n",
    "- the `Company Name`, \n",
    "- the `Job Title` of the employee, \n",
    "- the employee `Salary` (in Indian Rupee ₹), \n",
    "- the number of `Salaries Reported`, \n",
    "- the `Location` of the company, \n",
    "- the `Employment Status` and\n",
    "- the category of the `Job Roles` \n",
    "\n",
    "The dataset name is `Software Professionals Salary.xlsx` and you will find it in the `data` folder of this repository. At [this link](https://www.kaggle.com/datasets/iamsouravbanerjee/software-professional-salaries-2022?search=salary) you can find the source of the data (Kaggle) as well as more information on its composition. "
   ]
  },
  {
   "cell_type": "markdown",
   "id": "cd468a65-2fe5-4427-86f5-33dd7d73dc4d",
   "metadata": {
    "id": "cd468a65-2fe5-4427-86f5-33dd7d73dc4d"
   },
   "source": [
    " "
   ]
  },
  {
   "cell_type": "markdown",
   "id": "0d3ea74d-55a1-4236-bd04-9777f1af69de",
   "metadata": {
    "id": "0d3ea74d-55a1-4236-bd04-9777f1af69de"
   },
   "source": [
    "**Setup:** Import the necessary libraries and load the .csv file to a DataFrame named `sps`. Check that all columns have the correct data type. "
   ]
  },
  {
   "cell_type": "code",
   "execution_count": 15,
   "id": "40c3fbf2-54a3-440c-868f-d2509ca27aba",
   "metadata": {
    "id": "40c3fbf2-54a3-440c-868f-d2509ca27aba"
   },
   "outputs": [],
   "source": [
    "import numpy as np\n",
    "import pandas as pd\n",
    "import seaborn as sns\n",
    "import regex as re\n",
    "import requests"
   ]
  },
  {
   "cell_type": "code",
   "execution_count": 16,
   "id": "20719c67-71ec-4c3c-b9ab-1822dbbaeaf8",
   "metadata": {},
   "outputs": [],
   "source": [
    "sps = pd.read_excel('data/Software Professionals Salary.xlsx')"
   ]
  },
  {
   "cell_type": "markdown",
   "id": "d7e527a1-5129-4008-8db5-6b196be6a7cd",
   "metadata": {
    "id": "d7e527a1-5129-4008-8db5-6b196be6a7cd"
   },
   "source": [
    "1. What is the shape (rows, cols) of the `sps` DataFrame? "
   ]
  },
  {
   "cell_type": "code",
   "execution_count": 17,
   "id": "fd0690a5-11a2-44eb-b501-b92914e30832",
   "metadata": {
    "id": "fd0690a5-11a2-44eb-b501-b92914e30832"
   },
   "outputs": [],
   "source": [
    "def shape_df(df):\n",
    "    print('This dataframe has', df.shape[0],'rows and', df.shape[1],'columns.' )"
   ]
  },
  {
   "cell_type": "code",
   "execution_count": 18,
   "id": "6690649b-db2b-47b1-a74f-2d567740f24a",
   "metadata": {},
   "outputs": [
    {
     "name": "stdout",
     "output_type": "stream",
     "text": [
      "This dataframe has 22770 rows and 8 columns.\n"
     ]
    }
   ],
   "source": [
    "shape_df(sps)"
   ]
  },
  {
   "cell_type": "markdown",
   "id": "a80bd554-b444-4335-9841-1c46374abf60",
   "metadata": {
    "id": "a80bd554-b444-4335-9841-1c46374abf60"
   },
   "source": [
    "2. How many unique `Job Roles` are there in the dataset? "
   ]
  },
  {
   "cell_type": "code",
   "execution_count": 19,
   "id": "c4f563b6-dfea-4fc7-8e1a-b33fdcec2454",
   "metadata": {
    "id": "c4f563b6-dfea-4fc7-8e1a-b33fdcec2454"
   },
   "outputs": [
    {
     "name": "stdout",
     "output_type": "stream",
     "text": [
      "In the dataframe there are 11 unique job roles.\n"
     ]
    }
   ],
   "source": [
    "unique_job_roles = len(sps['Job Roles'].unique())\n",
    "print('In the dataframe there are', unique_job_roles,'unique job roles.')"
   ]
  },
  {
   "cell_type": "markdown",
   "id": "3e37f0cb-a461-455c-8c86-3442d453e998",
   "metadata": {
    "id": "3e37f0cb-a461-455c-8c86-3442d453e998"
   },
   "source": [
    "3. How many unique `Job Title` are there for the \"Python\" `Job Role`? "
   ]
  },
  {
   "cell_type": "code",
   "execution_count": 20,
   "id": "e5114fa9-4fee-4835-ba92-dafc05c06275",
   "metadata": {
    "id": "e5114fa9-4fee-4835-ba92-dafc05c06275"
   },
   "outputs": [
    {
     "name": "stdout",
     "output_type": "stream",
     "text": [
      "In the dataframe there are 102 unique Python roles.\n"
     ]
    }
   ],
   "source": [
    "unique_python_roles = len(sps[sps['Job Roles']=='Python']['Job Title'].unique())\n",
    "print('In the dataframe there are', unique_python_roles,'unique Python roles.')"
   ]
  },
  {
   "cell_type": "markdown",
   "id": "a17fcd33-da70-4d95-b6ef-db5a5691924f",
   "metadata": {
    "id": "a17fcd33-da70-4d95-b6ef-db5a5691924f"
   },
   "source": [
    "4. Of the `Company Name`s that are listed in the DataFrame, **how many** have a \"Python\" `Job Role` with a `Job Title` containing the **substring** \"Analyst\"?"
   ]
  },
  {
   "cell_type": "code",
   "execution_count": 21,
   "id": "5b9b9905-3e0c-48c3-a8c6-73cfe8a17c65",
   "metadata": {
    "id": "5b9b9905-3e0c-48c3-a8c6-73cfe8a17c65"
   },
   "outputs": [
    {
     "name": "stdout",
     "output_type": "stream",
     "text": [
      "3\n"
     ]
    }
   ],
   "source": [
    "python_and_analyst = len(sps[(sps['Job Roles']=='Python') & (sps['Job Title'].str.contains('Analyst'))])\n",
    "print(python_and_analyst)"
   ]
  },
  {
   "cell_type": "markdown",
   "id": "f2110f33-71b5-4537-9aee-514f96c06a23",
   "metadata": {
    "id": "f2110f33-71b5-4537-9aee-514f96c06a23"
   },
   "source": [
    "5. Which `Company Name` has the highest number of `Salaries Reported` (across all `Job Title`s)?"
   ]
  },
  {
   "cell_type": "code",
   "execution_count": 22,
   "id": "982af4b8-fbe5-4df7-b960-121fcc396969",
   "metadata": {
    "tags": []
   },
   "outputs": [
    {
     "name": "stdout",
     "output_type": "stream",
     "text": [
      "The company that has the highest number of reported salaries is: Amazon\n"
     ]
    }
   ],
   "source": [
    "salaries_reported = sps.groupby('Company Name', as_index=False)['Salaries Reported'].sum()\n",
    "salaries_reported_sorted = salaries_reported.sort_values('Salaries Reported', ascending=False)\n",
    "print('The company that has the highest number of reported salaries is:',salaries_reported_sorted.iloc[0]['Company Name'])"
   ]
  },
  {
   "cell_type": "code",
   "execution_count": 23,
   "id": "0cd9baa9-897f-41b2-a062-a15d1bad566a",
   "metadata": {
    "id": "0cd9baa9-897f-41b2-a062-a15d1bad566a"
   },
   "outputs": [],
   "source": [
    "#cmp = sps.groupby('Company Name', as_index=False)['Salaries Reported'].size()\n",
    "#cmp.sort_values('Salaries Reported', ascending=False)"
   ]
  },
  {
   "cell_type": "markdown",
   "id": "902fbf21-180a-44de-81e4-50457980c762",
   "metadata": {
    "id": "902fbf21-180a-44de-81e4-50457980c762"
   },
   "source": [
    "6. Given the `Company Name` you found at the previous question, how many `Location`s is this company present in? "
   ]
  },
  {
   "cell_type": "code",
   "execution_count": 24,
   "id": "918e629a-b114-4064-8943-2cd283988e07",
   "metadata": {
    "id": "918e629a-b114-4064-8943-2cd283988e07"
   },
   "outputs": [
    {
     "name": "stdout",
     "output_type": "stream",
     "text": [
      "The company Amazon is present in 9 locations.\n"
     ]
    }
   ],
   "source": [
    "num_amazon_locations = len(sps[sps['Company Name']=='Amazon']['Location'].unique())\n",
    "print('The company Amazon is present in', num_amazon_locations,'locations.')"
   ]
  },
  {
   "cell_type": "markdown",
   "id": "dee41965-0db4-446d-bf20-174898462a8d",
   "metadata": {
    "id": "dee41965-0db4-446d-bf20-174898462a8d"
   },
   "source": [
    "7. As you may have noticed, the `Salary` is reported in Indian Rupees (ISO code: INR). Using the [Open Access Endpoint](https://www.exchangerate-api.com/docs/free) (no API Key required) of the ExchangeRate-API service, create a new column named `Salary USD` containing the salary-equivalent in USD and round the result to zero decimals. What is the conversion rate between USD-INR at the time of your execution? *Note: of course, this result will change in time*"
   ]
  },
  {
   "cell_type": "code",
   "execution_count": 25,
   "id": "bab08d9b-ac6c-4ae6-a6fe-1efded5e4bab",
   "metadata": {
    "id": "bab08d9b-ac6c-4ae6-a6fe-1efded5e4bab"
   },
   "outputs": [
    {
     "data": {
      "text/plain": [
       "200"
      ]
     },
     "execution_count": 25,
     "metadata": {},
     "output_type": "execute_result"
    }
   ],
   "source": [
    "url = 'https://open.er-api.com/v6/latest/USD'\n",
    "r = requests.get(url)\n",
    "r.status_code"
   ]
  },
  {
   "cell_type": "code",
   "execution_count": 26,
   "id": "581c954f-d553-4e2b-8725-92cceb19a00d",
   "metadata": {},
   "outputs": [],
   "source": [
    "#r_json = r.json()\n",
    "#rates = pd.DataFrame(r_json['rates'])\n",
    "#rates = pd.DataFrame(r.json()['rates'])"
   ]
  },
  {
   "cell_type": "code",
   "execution_count": 27,
   "id": "6b25ceaf-9cd3-484d-b61c-a06b7b91930d",
   "metadata": {},
   "outputs": [],
   "source": [
    "inr = r.json()['rates']['INR']\n",
    "usd = r.json()['rates']['USD']"
   ]
  },
  {
   "cell_type": "code",
   "execution_count": 28,
   "id": "4d0325a0-e3c1-4491-a975-9c6916509f40",
   "metadata": {},
   "outputs": [],
   "source": [
    "#salary / exchange rate = amount in usd\n",
    "sps['Salary USD'] = sps['Salary'] / inr\n",
    "sps['Salary USD'] = sps['Salary USD'].astype('int64').round(decimals=0)"
   ]
  },
  {
   "cell_type": "code",
   "execution_count": 29,
   "id": "aea2cf16-0bed-4b7c-b848-48118cbae087",
   "metadata": {},
   "outputs": [
    {
     "name": "stdout",
     "output_type": "stream",
     "text": [
      "The exchange rate between USD and INR is: USD 1 - INR 82.815755\n"
     ]
    }
   ],
   "source": [
    "print('The exchange rate between USD and INR is: USD',usd,'- INR',inr)"
   ]
  },
  {
   "cell_type": "markdown",
   "id": "c457c816-0762-4727-a4dc-b89d0b12eea5",
   "metadata": {
    "id": "c457c816-0762-4727-a4dc-b89d0b12eea5"
   },
   "source": [
    "8. What is the average `Salary USD` for the \"Python\" `Job Role`? "
   ]
  },
  {
   "cell_type": "code",
   "execution_count": 30,
   "id": "d6962eb6-d7bb-4a93-aed1-19828457c4fd",
   "metadata": {},
   "outputs": [
    {
     "name": "stdout",
     "output_type": "stream",
     "text": [
      "The average salary in USD for the Python job role is: 5868.042238648363\n"
     ]
    }
   ],
   "source": [
    "avg_salary_python = sps[sps['Job Roles']=='Python']['Salary USD'].mean()\n",
    "print('The average salary in USD for the Python job role is:', avg_salary_python)"
   ]
  },
  {
   "cell_type": "markdown",
   "id": "32420ea4-9878-47d9-a001-eef14914f481",
   "metadata": {
    "id": "32420ea4-9878-47d9-a001-eef14914f481"
   },
   "source": [
    "9. Which `Company Name` has the highest **average** `Salary USD` across all `Job Title`s? "
   ]
  },
  {
   "cell_type": "code",
   "execution_count": 42,
   "id": "b1ff1c06-087f-42bc-9e61-8aecc2a2d89c",
   "metadata": {
    "id": "b1ff1c06-087f-42bc-9e61-8aecc2a2d89c"
   },
   "outputs": [
    {
     "name": "stdout",
     "output_type": "stream",
     "text": [
      "The company with the highest average salary in USD is: Thapar University\n"
     ]
    }
   ],
   "source": [
    "highest_avg_salary_comp = sps.groupby('Company Name')['Salary USD'].mean().sort_values(ascending=False).reset_index()\n",
    "highest_avg_salary_comp['Company Name'][0]\n",
    "print('The company with the highest average salary in USD is:',highest_avg_salary_comp['Company Name'][0])"
   ]
  },
  {
   "cell_type": "markdown",
   "id": "305fe38f-9332-4ba9-8b01-25ec9db92793",
   "metadata": {
    "id": "305fe38f-9332-4ba9-8b01-25ec9db92793"
   },
   "source": [
    "10. Create a Plot that shows the **relationship** between the average `Salary USD` and the average `Rating` for each `Company Name`. Do you see any anomaly in the plot? Which is the `Company Name` that is causing this oddity?"
   ]
  },
  {
   "cell_type": "code",
   "execution_count": 50,
   "id": "f0573791-7710-4552-b5cc-d7a86151ed4f",
   "metadata": {
    "collapsed": true,
    "id": "f0573791-7710-4552-b5cc-d7a86151ed4f",
    "jupyter": {
     "outputs_hidden": true
    },
    "tags": []
   },
   "outputs": [
    {
     "data": {
      "text/plain": [
       "<AxesSubplot:xlabel='Salary USD', ylabel='Rating'>"
      ]
     },
     "execution_count": 50,
     "metadata": {},
     "output_type": "execute_result"
    },
    {
     "data": {
      "image/png": "[encoded data removed]",
      "text/plain": [
       "<Figure size 640x480 with 1 Axes>"
      ]
     },
     "metadata": {},
     "output_type": "display_data"
    }
   ],
   "source": [
    "#plot between Salary USD and Rating\n",
    "sns.scatterplot(x='Salary USD', y='Rating', data=sps)"
   ]
  },
  {
   "cell_type": "code",
   "execution_count": 56,
   "id": "92fe6943-7017-4908-93dc-5ca0e3c9ea2e",
   "metadata": {
    "tags": []
   },
   "outputs": [
    {
     "data": {
      "text/html": [
       "<div>\n",
       "<style scoped>\n",
       "    .dataframe tbody tr th:only-of-type {\n",
       "        vertical-align: middle;\n",
       "    }\n",
       "\n",
       "    .dataframe tbody tr th {\n",
       "        vertical-align: top;\n",
       "    }\n",
       "\n",
       "    .dataframe thead th {\n",
       "        text-align: right;\n",
       "    }\n",
       "</style>\n",
       "<table border=\"1\" class=\"dataframe\">\n",
       "  <thead>\n",
       "    <tr style=\"text-align: right;\">\n",
       "      <th></th>\n",
       "      <th>Rating</th>\n",
       "      <th>Company Name</th>\n",
       "      <th>Job Title</th>\n",
       "      <th>Salary</th>\n",
       "      <th>Salaries Reported</th>\n",
       "      <th>Location</th>\n",
       "      <th>Employment Status</th>\n",
       "      <th>Job Roles</th>\n",
       "      <th>Salary USD</th>\n",
       "    </tr>\n",
       "  </thead>\n",
       "  <tbody>\n",
       "    <tr>\n",
       "      <th>18635</th>\n",
       "      <td>3.6</td>\n",
       "      <td>Thapar University</td>\n",
       "      <td>Software Development Engineer (SDE)</td>\n",
       "      <td>90000000</td>\n",
       "      <td>1</td>\n",
       "      <td>New Delhi</td>\n",
       "      <td>Full Time</td>\n",
       "      <td>SDE</td>\n",
       "      <td>1086749</td>\n",
       "    </tr>\n",
       "  </tbody>\n",
       "</table>\n",
       "</div>"
      ],
      "text/plain": [
       "       Rating       Company Name                            Job Title  \\\n",
       "18635     3.6  Thapar University  Software Development Engineer (SDE)   \n",
       "\n",
       "         Salary  Salaries Reported   Location Employment Status Job Roles  \\\n",
       "18635  90000000                  1  New Delhi         Full Time       SDE   \n",
       "\n",
       "       Salary USD  \n",
       "18635     1086749  "
      ]
     },
     "execution_count": 56,
     "metadata": {},
     "output_type": "execute_result"
    }
   ],
   "source": [
    "sps[sps['Salary USD'] == sps['Salary USD'].max()]"
   ]
  }
 ],
 "metadata": {
  "colab": {
   "provenance": []
  },
  "kernelspec": {
   "display_name": "Python 3",
   "language": "python",
   "name": "python3"
  },
  "language_info": {
   "codemirror_mode": {
    "name": "ipython",
    "version": 3
   },
   "file_extension": ".py",
   "mimetype": "text/x-python",
   "name": "python",
   "nbconvert_exporter": "python",
   "pygments_lexer": "ipython3",
   "version": "3.10.1"
  },
  "vscode": {
   "interpreter": {
    "hash": "255ac9cdb487110d5a65351821472b72b60261c28bcd7c6351c6a7b5e9d77003"
   }
  }
 },
 "nbformat": 4,
 "nbformat_minor": 5
}
